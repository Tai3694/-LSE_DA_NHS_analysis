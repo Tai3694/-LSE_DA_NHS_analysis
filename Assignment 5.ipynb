{
 "cells": [
  {
   "cell_type": "markdown",
   "id": "bee086e6",
   "metadata": {},
   "source": [
    "## Question 1 "
   ]
  },
  {
   "cell_type": "code",
   "execution_count": 1,
   "id": "7b641ba2",
   "metadata": {},
   "outputs": [],
   "source": [
    "#Need to import more packages\n",
    "import pandas as pd\n",
    "import seaborn as sns\n",
    "import matplotlib.pyplot as plt\n",
    "from matplotlib.pyplot import figure"
   ]
  },
  {
   "cell_type": "code",
   "execution_count": 2,
   "id": "e6718c18",
   "metadata": {},
   "outputs": [
    {
     "data": {
      "text/plain": [
       "<Figure size 1080x864 with 0 Axes>"
      ]
     },
     "metadata": {},
     "output_type": "display_data"
    }
   ],
   "source": [
    "# Set the colour/plot style.\n",
    "plt.figure(figsize=(15, 12))\n",
    "\n",
    "sns.set_style('white')"
   ]
  },
  {
   "cell_type": "code",
   "execution_count": 3,
   "id": "ca7a0218",
   "metadata": {},
   "outputs": [],
   "source": [
    "#Set maximum column width to 200\n",
    "pd.options.display.max_colwidth=200"
   ]
  },
  {
   "cell_type": "markdown",
   "id": "4868f408",
   "metadata": {},
   "source": [
    "## Question 2 "
   ]
  },
  {
   "cell_type": "code",
   "execution_count": 4,
   "id": "265a2c9d",
   "metadata": {},
   "outputs": [],
   "source": [
    "# Import Pandas and NumPy.\n",
    "import pandas as pd\n",
    "import numpy as np"
   ]
  },
  {
   "cell_type": "code",
   "execution_count": 5,
   "id": "3802cb4a",
   "metadata": {},
   "outputs": [],
   "source": [
    "#Load tweets CSV files\n",
    "tweets = pd.read_csv('tweets.csv')"
   ]
  },
  {
   "cell_type": "code",
   "execution_count": 6,
   "id": "29d40cf6",
   "metadata": {},
   "outputs": [
    {
     "data": {
      "text/html": [
       "<div>\n",
       "<style scoped>\n",
       "    .dataframe tbody tr th:only-of-type {\n",
       "        vertical-align: middle;\n",
       "    }\n",
       "\n",
       "    .dataframe tbody tr th {\n",
       "        vertical-align: top;\n",
       "    }\n",
       "\n",
       "    .dataframe thead th {\n",
       "        text-align: right;\n",
       "    }\n",
       "</style>\n",
       "<table border=\"1\" class=\"dataframe\">\n",
       "  <thead>\n",
       "    <tr style=\"text-align: right;\">\n",
       "      <th></th>\n",
       "      <th>tweet_id</th>\n",
       "      <th>tweet_full_text</th>\n",
       "      <th>tweet_entities</th>\n",
       "      <th>tweet_entities_hashtags</th>\n",
       "      <th>tweet_metadata</th>\n",
       "      <th>tweet_retweet_count</th>\n",
       "      <th>tweet_favorite_count</th>\n",
       "      <th>tweet_favorited</th>\n",
       "      <th>tweet_retweeted</th>\n",
       "      <th>tweet_lang</th>\n",
       "    </tr>\n",
       "  </thead>\n",
       "  <tbody>\n",
       "    <tr>\n",
       "      <th>0</th>\n",
       "      <td>1567629223795527681</td>\n",
       "      <td>As Arkansas’ first Comprehensive Stroke Certified Center, UAMS provides Arkansans with access to the most advanced stoke care. Join us in our mission to make a difference in the health and well-be...</td>\n",
       "      <td>{'hashtags': [{'text': 'Healthcare', 'indices': [253, 264]}], 'symbols': [], 'user_mentions': [], 'urls': [{'url': 'https://t.co/yw0cstfmSI', 'expanded_url': 'https://bit.ly/3BiSKbs', 'display_url...</td>\n",
       "      <td>#Healthcare</td>\n",
       "      <td>{'iso_language_code': 'en', 'result_type': 'recent'}</td>\n",
       "      <td>0</td>\n",
       "      <td>0</td>\n",
       "      <td>False</td>\n",
       "      <td>False</td>\n",
       "      <td>en</td>\n",
       "    </tr>\n",
       "    <tr>\n",
       "      <th>1</th>\n",
       "      <td>1567582846612553728</td>\n",
       "      <td>RT @AndreaGrammer: Work-life balance is at the foundation of how decisions are made and where #PremiseHealth is headed.  We're #hiring for…</td>\n",
       "      <td>{'hashtags': [{'text': 'PremiseHealth', 'indices': [94, 108]}, {'text': 'hiring', 'indices': [127, 134]}], 'symbols': [], 'user_mentions': [{'screen_name': 'AndreaGrammer', 'name': 'Andrea Grammer...</td>\n",
       "      <td>#PremiseHealth, #hiring</td>\n",
       "      <td>{'iso_language_code': 'en', 'result_type': 'recent'}</td>\n",
       "      <td>2</td>\n",
       "      <td>0</td>\n",
       "      <td>False</td>\n",
       "      <td>False</td>\n",
       "      <td>en</td>\n",
       "    </tr>\n",
       "    <tr>\n",
       "      <th>2</th>\n",
       "      <td>1567582787070304256</td>\n",
       "      <td>RT @OntarioGreens: $10 billion can go a long way to fixing our broken #Healthcare system.\\n\\nYet Doug Ford would rather spend it ALL on a hig…</td>\n",
       "      <td>{'hashtags': [{'text': 'Healthcare', 'indices': [70, 81]}], 'symbols': [], 'user_mentions': [{'screen_name': 'OntarioGreens', 'name': 'Green Party of Ontario', 'id': 37115912, 'id_str': '37115912'...</td>\n",
       "      <td>#Healthcare</td>\n",
       "      <td>{'iso_language_code': 'en', 'result_type': 'recent'}</td>\n",
       "      <td>39</td>\n",
       "      <td>0</td>\n",
       "      <td>False</td>\n",
       "      <td>False</td>\n",
       "      <td>en</td>\n",
       "    </tr>\n",
       "    <tr>\n",
       "      <th>3</th>\n",
       "      <td>1567582767625428992</td>\n",
       "      <td>RT @modrnhealthcr: 🚨#NEW:🚨 Insurance companies are figuring out the best ways to collect information about members’ race and ethnicity data…</td>\n",
       "      <td>{'hashtags': [{'text': 'NEW', 'indices': [20, 24]}], 'symbols': [], 'user_mentions': [{'screen_name': 'modrnhealthcr', 'name': 'Modern Healthcare', 'id': 18935711, 'id_str': '18935711', 'indices':...</td>\n",
       "      <td>#NEW</td>\n",
       "      <td>{'iso_language_code': 'en', 'result_type': 'recent'}</td>\n",
       "      <td>5</td>\n",
       "      <td>0</td>\n",
       "      <td>False</td>\n",
       "      <td>False</td>\n",
       "      <td>en</td>\n",
       "    </tr>\n",
       "    <tr>\n",
       "      <th>4</th>\n",
       "      <td>1567582720460570625</td>\n",
       "      <td>ICYMI: Our recent blogs on Cybersecurity in Accounting https://t.co/4nnK0FiVVL and Digital Transformation in Healthcare Finance https://t.co/jIqn52lHD3 are a great read, take a look!\\n\\n#blogs #di...</td>\n",
       "      <td>{'hashtags': [{'text': 'blogs', 'indices': [184, 190]}, {'text': 'digitaltransformation', 'indices': [191, 213]}, {'text': 'cybersecurity', 'indices': [214, 228]}, {'text': 'accounting', 'indices'...</td>\n",
       "      <td>#blogs, #digitaltransformation, #cybersecurity, #accounting, #finance, #healthcare</td>\n",
       "      <td>{'iso_language_code': 'en', 'result_type': 'recent'}</td>\n",
       "      <td>0</td>\n",
       "      <td>0</td>\n",
       "      <td>False</td>\n",
       "      <td>False</td>\n",
       "      <td>en</td>\n",
       "    </tr>\n",
       "  </tbody>\n",
       "</table>\n",
       "</div>"
      ],
      "text/plain": [
       "              tweet_id  \\\n",
       "0  1567629223795527681   \n",
       "1  1567582846612553728   \n",
       "2  1567582787070304256   \n",
       "3  1567582767625428992   \n",
       "4  1567582720460570625   \n",
       "\n",
       "                                                                                                                                                                                           tweet_full_text  \\\n",
       "0  As Arkansas’ first Comprehensive Stroke Certified Center, UAMS provides Arkansans with access to the most advanced stoke care. Join us in our mission to make a difference in the health and well-be...   \n",
       "1                                                              RT @AndreaGrammer: Work-life balance is at the foundation of how decisions are made and where #PremiseHealth is headed.  We're #hiring for…   \n",
       "2                                                           RT @OntarioGreens: $10 billion can go a long way to fixing our broken #Healthcare system.\\n\\nYet Doug Ford would rather spend it ALL on a hig…   \n",
       "3                                                             RT @modrnhealthcr: 🚨#NEW:🚨 Insurance companies are figuring out the best ways to collect information about members’ race and ethnicity data…   \n",
       "4  ICYMI: Our recent blogs on Cybersecurity in Accounting https://t.co/4nnK0FiVVL and Digital Transformation in Healthcare Finance https://t.co/jIqn52lHD3 are a great read, take a look!\\n\\n#blogs #di...   \n",
       "\n",
       "                                                                                                                                                                                            tweet_entities  \\\n",
       "0  {'hashtags': [{'text': 'Healthcare', 'indices': [253, 264]}], 'symbols': [], 'user_mentions': [], 'urls': [{'url': 'https://t.co/yw0cstfmSI', 'expanded_url': 'https://bit.ly/3BiSKbs', 'display_url...   \n",
       "1  {'hashtags': [{'text': 'PremiseHealth', 'indices': [94, 108]}, {'text': 'hiring', 'indices': [127, 134]}], 'symbols': [], 'user_mentions': [{'screen_name': 'AndreaGrammer', 'name': 'Andrea Grammer...   \n",
       "2  {'hashtags': [{'text': 'Healthcare', 'indices': [70, 81]}], 'symbols': [], 'user_mentions': [{'screen_name': 'OntarioGreens', 'name': 'Green Party of Ontario', 'id': 37115912, 'id_str': '37115912'...   \n",
       "3  {'hashtags': [{'text': 'NEW', 'indices': [20, 24]}], 'symbols': [], 'user_mentions': [{'screen_name': 'modrnhealthcr', 'name': 'Modern Healthcare', 'id': 18935711, 'id_str': '18935711', 'indices':...   \n",
       "4  {'hashtags': [{'text': 'blogs', 'indices': [184, 190]}, {'text': 'digitaltransformation', 'indices': [191, 213]}, {'text': 'cybersecurity', 'indices': [214, 228]}, {'text': 'accounting', 'indices'...   \n",
       "\n",
       "                                                              tweet_entities_hashtags  \\\n",
       "0                                                                         #Healthcare   \n",
       "1                                                             #PremiseHealth, #hiring   \n",
       "2                                                                         #Healthcare   \n",
       "3                                                                                #NEW   \n",
       "4  #blogs, #digitaltransformation, #cybersecurity, #accounting, #finance, #healthcare   \n",
       "\n",
       "                                         tweet_metadata  tweet_retweet_count  \\\n",
       "0  {'iso_language_code': 'en', 'result_type': 'recent'}                    0   \n",
       "1  {'iso_language_code': 'en', 'result_type': 'recent'}                    2   \n",
       "2  {'iso_language_code': 'en', 'result_type': 'recent'}                   39   \n",
       "3  {'iso_language_code': 'en', 'result_type': 'recent'}                    5   \n",
       "4  {'iso_language_code': 'en', 'result_type': 'recent'}                    0   \n",
       "\n",
       "   tweet_favorite_count  tweet_favorited  tweet_retweeted tweet_lang  \n",
       "0                     0            False            False         en  \n",
       "1                     0            False            False         en  \n",
       "2                     0            False            False         en  \n",
       "3                     0            False            False         en  \n",
       "4                     0            False            False         en  "
      ]
     },
     "execution_count": 6,
     "metadata": {},
     "output_type": "execute_result"
    }
   ],
   "source": [
    "#Print first five rows\n",
    "tweets.head(5)"
   ]
  },
  {
   "cell_type": "code",
   "execution_count": 7,
   "id": "c203e47f",
   "metadata": {},
   "outputs": [
    {
     "name": "stdout",
     "output_type": "stream",
     "text": [
      "           tweet_id  tweet_retweet_count  tweet_favorite_count\n",
      "count  1.174000e+03          1174.000000            1174.00000\n",
      "mean   1.567612e+18             8.629472               0.37138\n",
      "std    2.427553e+13            29.784675               2.04470\n",
      "min    1.567574e+18             0.000000               0.00000\n",
      "25%    1.567590e+18             0.000000               0.00000\n",
      "50%    1.567611e+18             1.000000               0.00000\n",
      "75%    1.567633e+18             3.000000               0.00000\n",
      "max    1.567655e+18           303.000000              42.00000\n"
     ]
    }
   ],
   "source": [
    "#Explore data \n",
    "print(tweets.describe())"
   ]
  },
  {
   "cell_type": "code",
   "execution_count": 8,
   "id": "0d52d976",
   "metadata": {},
   "outputs": [
    {
     "name": "stdout",
     "output_type": "stream",
     "text": [
      "<class 'pandas.core.frame.DataFrame'>\n",
      "RangeIndex: 1174 entries, 0 to 1173\n",
      "Data columns (total 10 columns):\n",
      " #   Column                   Non-Null Count  Dtype \n",
      "---  ------                   --------------  ----- \n",
      " 0   tweet_id                 1174 non-null   int64 \n",
      " 1   tweet_full_text          1174 non-null   object\n",
      " 2   tweet_entities           1174 non-null   object\n",
      " 3   tweet_entities_hashtags  1007 non-null   object\n",
      " 4   tweet_metadata           1174 non-null   object\n",
      " 5   tweet_retweet_count      1174 non-null   int64 \n",
      " 6   tweet_favorite_count     1174 non-null   int64 \n",
      " 7   tweet_favorited          1174 non-null   bool  \n",
      " 8   tweet_retweeted          1174 non-null   bool  \n",
      " 9   tweet_lang               1174 non-null   object\n",
      "dtypes: bool(2), int64(3), object(5)\n",
      "memory usage: 75.8+ KB\n",
      "None\n"
     ]
    }
   ],
   "source": [
    "#Explore data\n",
    "print(tweets.info())"
   ]
  },
  {
   "cell_type": "code",
   "execution_count": 9,
   "id": "7f155503",
   "metadata": {},
   "outputs": [
    {
     "data": {
      "text/plain": [
       "0      526\n",
       "1      215\n",
       "2      114\n",
       "3       70\n",
       "5       35\n",
       "4       27\n",
       "7       18\n",
       "12      16\n",
       "8       15\n",
       "73      14\n",
       "9       13\n",
       "6       12\n",
       "208     12\n",
       "35      10\n",
       "37       6\n",
       "11       6\n",
       "10       5\n",
       "53       5\n",
       "44       4\n",
       "150      4\n",
       "63       4\n",
       "76       3\n",
       "85       3\n",
       "41       3\n",
       "62       3\n",
       "207      3\n",
       "68       3\n",
       "78       2\n",
       "23       2\n",
       "24       2\n",
       "72       2\n",
       "16       2\n",
       "13       1\n",
       "49       1\n",
       "48       1\n",
       "15       1\n",
       "107      1\n",
       "14       1\n",
       "79       1\n",
       "20       1\n",
       "39       1\n",
       "19       1\n",
       "303      1\n",
       "57       1\n",
       "40       1\n",
       "54       1\n",
       "169      1\n",
       "Name: tweet_retweet_count, dtype: int64"
      ]
     },
     "execution_count": 9,
     "metadata": {},
     "output_type": "execute_result"
    }
   ],
   "source": [
    "#Explore retweet count \n",
    "tweets['tweet_retweet_count'].value_counts()"
   ]
  },
  {
   "cell_type": "code",
   "execution_count": 10,
   "id": "68c46922",
   "metadata": {},
   "outputs": [
    {
     "data": {
      "text/plain": [
       "0     1027\n",
       "1       91\n",
       "2       16\n",
       "3       13\n",
       "4        7\n",
       "5        5\n",
       "6        2\n",
       "17       1\n",
       "12       1\n",
       "10       1\n",
       "8        1\n",
       "13       1\n",
       "11       1\n",
       "7        1\n",
       "20       1\n",
       "28       1\n",
       "14       1\n",
       "18       1\n",
       "9        1\n",
       "42       1\n",
       "Name: tweet_favorite_count, dtype: int64"
      ]
     },
     "execution_count": 10,
     "metadata": {},
     "output_type": "execute_result"
    }
   ],
   "source": [
    "#Explore favourite count \n",
    "tweets['tweet_favorite_count'].value_counts()"
   ]
  },
  {
   "cell_type": "markdown",
   "id": "05910c87",
   "metadata": {},
   "source": [
    "## Question 3\n"
   ]
  },
  {
   "cell_type": "code",
   "execution_count": 11,
   "id": "c4926a39",
   "metadata": {},
   "outputs": [
    {
     "data": {
      "text/plain": [
       "tweet_id                    int64\n",
       "tweet_full_text            object\n",
       "tweet_entities             object\n",
       "tweet_entities_hashtags    object\n",
       "tweet_metadata             object\n",
       "tweet_retweet_count         int64\n",
       "tweet_favorite_count        int64\n",
       "tweet_favorited              bool\n",
       "tweet_retweeted              bool\n",
       "tweet_lang                 object\n",
       "dtype: object"
      ]
     },
     "execution_count": 11,
     "metadata": {},
     "output_type": "execute_result"
    }
   ],
   "source": [
    "#Look at the data types\n",
    "tweets.dtypes"
   ]
  },
  {
   "cell_type": "code",
   "execution_count": 12,
   "id": "20662e9c",
   "metadata": {},
   "outputs": [
    {
     "name": "stdout",
     "output_type": "stream",
     "text": [
      "                                                                                                                                                                                              tweet_full_text\n",
      "0     As Arkansas’ first Comprehensive Stroke Certified Center, UAMS provides Arkansans with access to the most advanced stoke care. Join us in our mission to make a difference in the health and well-be...\n",
      "1                                                                 RT @AndreaGrammer: Work-life balance is at the foundation of how decisions are made and where #PremiseHealth is headed.  We're #hiring for…\n",
      "2                                                              RT @OntarioGreens: $10 billion can go a long way to fixing our broken #Healthcare system.\\n\\nYet Doug Ford would rather spend it ALL on a hig…\n",
      "3                                                                RT @modrnhealthcr: 🚨#NEW:🚨 Insurance companies are figuring out the best ways to collect information about members’ race and ethnicity data…\n",
      "4     ICYMI: Our recent blogs on Cybersecurity in Accounting https://t.co/4nnK0FiVVL and Digital Transformation in Healthcare Finance https://t.co/jIqn52lHD3 are a great read, take a look!\\n\\n#blogs #di...\n",
      "...                                                                                                                                                                                                       ...\n",
      "1169                                                           RT @PotomacPhotonic: Potomac #Innovation Report:  #precisionFabrication techniques Optimize #Microfluidic Mixing of Viscous Fluids \\n\\n#manuf…\n",
      "1170  Not a cent towards workers who would like to advance their training, especially those already employed by SHA or who for various reasons cannot obtain a student loan. Half of our department applie...\n",
      "1171  The @hfmaorg Region 9 presents \"The Value of ESG to the Healthcare Industry\" and our own Kris Russell and Ron Present will be the key speakers. This #webinar will be taking place 9/13 and will exp...\n",
      "1172                                    Happy physiotherapy 🩺 day 🎉..\\n#bpt #physiotherapy \\n#HealthyNation #healthcare \\n#medicalcare \\n#csjmu .\\n@WHO \\n@MoHFW_INDIA \\n@nitish_0210 https://t.co/NQHdIoYymC\n",
      "1173                                                             RT @KimcoStaffing: Apply now to work for #MediQuestStaffing as EVS - #Hospital - 1st #shift -  Interviewing Now!! (#NewportBeach) #job http…\n",
      "\n",
      "[1174 rows x 1 columns]\n"
     ]
    },
    {
     "data": {
      "text/html": [
       "<div>\n",
       "<style scoped>\n",
       "    .dataframe tbody tr th:only-of-type {\n",
       "        vertical-align: middle;\n",
       "    }\n",
       "\n",
       "    .dataframe tbody tr th {\n",
       "        vertical-align: top;\n",
       "    }\n",
       "\n",
       "    .dataframe thead th {\n",
       "        text-align: right;\n",
       "    }\n",
       "</style>\n",
       "<table border=\"1\" class=\"dataframe\">\n",
       "  <thead>\n",
       "    <tr style=\"text-align: right;\">\n",
       "      <th></th>\n",
       "      <th>tweet_full_text</th>\n",
       "    </tr>\n",
       "  </thead>\n",
       "  <tbody>\n",
       "    <tr>\n",
       "      <th>0</th>\n",
       "      <td>As Arkansas’ first Comprehensive Stroke Certified Center, UAMS provides Arkansans with access to the most advanced stoke care. Join us in our mission to make a difference in the health and well-be...</td>\n",
       "    </tr>\n",
       "    <tr>\n",
       "      <th>1</th>\n",
       "      <td>RT @AndreaGrammer: Work-life balance is at the foundation of how decisions are made and where #PremiseHealth is headed.  We're #hiring for…</td>\n",
       "    </tr>\n",
       "    <tr>\n",
       "      <th>2</th>\n",
       "      <td>RT @OntarioGreens: $10 billion can go a long way to fixing our broken #Healthcare system.\\n\\nYet Doug Ford would rather spend it ALL on a hig…</td>\n",
       "    </tr>\n",
       "    <tr>\n",
       "      <th>3</th>\n",
       "      <td>RT @modrnhealthcr: 🚨#NEW:🚨 Insurance companies are figuring out the best ways to collect information about members’ race and ethnicity data…</td>\n",
       "    </tr>\n",
       "    <tr>\n",
       "      <th>4</th>\n",
       "      <td>ICYMI: Our recent blogs on Cybersecurity in Accounting https://t.co/4nnK0FiVVL and Digital Transformation in Healthcare Finance https://t.co/jIqn52lHD3 are a great read, take a look!\\n\\n#blogs #di...</td>\n",
       "    </tr>\n",
       "  </tbody>\n",
       "</table>\n",
       "</div>"
      ],
      "text/plain": [
       "                                                                                                                                                                                           tweet_full_text\n",
       "0  As Arkansas’ first Comprehensive Stroke Certified Center, UAMS provides Arkansans with access to the most advanced stoke care. Join us in our mission to make a difference in the health and well-be...\n",
       "1                                                              RT @AndreaGrammer: Work-life balance is at the foundation of how decisions are made and where #PremiseHealth is headed.  We're #hiring for…\n",
       "2                                                           RT @OntarioGreens: $10 billion can go a long way to fixing our broken #Healthcare system.\\n\\nYet Doug Ford would rather spend it ALL on a hig…\n",
       "3                                                             RT @modrnhealthcr: 🚨#NEW:🚨 Insurance companies are figuring out the best ways to collect information about members’ race and ethnicity data…\n",
       "4  ICYMI: Our recent blogs on Cybersecurity in Accounting https://t.co/4nnK0FiVVL and Digital Transformation in Healthcare Finance https://t.co/jIqn52lHD3 are a great read, take a look!\\n\\n#blogs #di..."
      ]
     },
     "execution_count": 12,
     "metadata": {},
     "output_type": "execute_result"
    }
   ],
   "source": [
    "#Create new DataFrame\n",
    "tweets_text = tweets[['tweet_full_text']]\n",
    "\n",
    "#View DataFrame\n",
    "print(tweets_text)\n",
    "tweets_text.head(5)"
   ]
  },
  {
   "cell_type": "code",
   "execution_count": 13,
   "id": "9e8304c9",
   "metadata": {},
   "outputs": [],
   "source": [
    "#Create new variable \n",
    "tags = []"
   ]
  },
  {
   "cell_type": "code",
   "execution_count": 14,
   "id": "338421e8",
   "metadata": {},
   "outputs": [],
   "source": [
    "for y in [x.split(' ') for x in tweets['tweet_full_text'].values]:\n",
    "    for z in y:\n",
    "        if '#' in z:\n",
    "            # Change to lowercase.\n",
    "            tags.append(z.lower())"
   ]
  },
  {
   "cell_type": "code",
   "execution_count": 15,
   "id": "5e4a1173",
   "metadata": {},
   "outputs": [
    {
     "name": "stdout",
     "output_type": "stream",
     "text": [
      "#healthcare      716\n",
      "#health           80\n",
      "#medicine         41\n",
      "#ai               40\n",
      "#job              38\n",
      "                ... \n",
      "#evestudy          1\n",
      "#patientdata…      1\n",
      "#secure            1\n",
      "#sms               1\n",
      "\\n#csjmu           1\n",
      "Length: 1754, dtype: int64\n"
     ]
    }
   ],
   "source": [
    "#Create Pandas Series and use value Counts\n",
    "myseries = pd.Series(tags)\n",
    "results = myseries.value_counts()\n",
    "\n",
    "print(results)"
   ]
  },
  {
   "cell_type": "code",
   "execution_count": 16,
   "id": "2b828955",
   "metadata": {},
   "outputs": [
    {
     "data": {
      "text/plain": [
       "#healthcare                    716\n",
       "#health                         80\n",
       "#medicine                       41\n",
       "#ai                             40\n",
       "#job                            38\n",
       "#medical                        35\n",
       "#strategy                       30\n",
       "#pharmaceutical                 28\n",
       "#digitalhealth                  25\n",
       "#pharma                         25\n",
       "#marketing                      25\n",
       "#medtwitter                     24\n",
       "#biotech                        24\n",
       "#competitiveintelligence        24\n",
       "#meded                          23\n",
       "#vaccine                        18\n",
       "#hiring                         18\n",
       "#news                           17\n",
       "#machinelearning                17\n",
       "#technology                     17\n",
       "#coronavirus                    16\n",
       "#womeninmedicine                16\n",
       "#covid                          16\n",
       "#competitivemarketing           16\n",
       "#wellness                       15\n",
       "#healthtech                     15\n",
       "#doctorofveterinarymedicine     14\n",
       "#science                        14\n",
       "#medicare                       14\n",
       "#covid19                        14\n",
       "dtype: int64"
      ]
     },
     "execution_count": 16,
     "metadata": {},
     "output_type": "execute_result"
    }
   ],
   "source": [
    "#Display 30 records \n",
    "results.head(30)"
   ]
  },
  {
   "cell_type": "markdown",
   "id": "470f958c",
   "metadata": {},
   "source": [
    "## Question 4\n"
   ]
  },
  {
   "cell_type": "code",
   "execution_count": 17,
   "id": "553a8695",
   "metadata": {},
   "outputs": [
    {
     "name": "stdout",
     "output_type": "stream",
     "text": [
      "               Word  Count\n",
      "0       #healthcare    716\n",
      "1           #health     80\n",
      "2         #medicine     41\n",
      "3               #ai     40\n",
      "4              #job     38\n",
      "...             ...    ...\n",
      "1749      #evestudy      1\n",
      "1750  #patientdata…      1\n",
      "1751        #secure      1\n",
      "1752           #sms      1\n",
      "1753       \\n#csjmu      1\n",
      "\n",
      "[1754 rows x 2 columns]\n"
     ]
    }
   ],
   "source": [
    "#Create new DataFrame\n",
    "data = pd.DataFrame({'Word':results.index, 'Count':results.values})\n",
    "print(data)"
   ]
  },
  {
   "cell_type": "code",
   "execution_count": 18,
   "id": "f6cca6ec",
   "metadata": {},
   "outputs": [
    {
     "name": "stdout",
     "output_type": "stream",
     "text": [
      "                           Word  Count\n",
      "0                   #healthcare    716\n",
      "1                       #health     80\n",
      "2                     #medicine     41\n",
      "3                           #ai     40\n",
      "4                          #job     38\n",
      "5                      #medical     35\n",
      "6                     #strategy     30\n",
      "7               #pharmaceutical     28\n",
      "8                #digitalhealth     25\n",
      "9                       #pharma     25\n",
      "10                   #marketing     25\n",
      "11                  #medtwitter     24\n",
      "12                     #biotech     24\n",
      "13     #competitiveintelligence     24\n",
      "14                       #meded     23\n",
      "15                     #vaccine     18\n",
      "16                      #hiring     18\n",
      "17                        #news     17\n",
      "18             #machinelearning     17\n",
      "19                  #technology     17\n",
      "20                 #coronavirus     16\n",
      "21             #womeninmedicine     16\n",
      "22                       #covid     16\n",
      "23        #competitivemarketing     16\n",
      "24                    #wellness     15\n",
      "25                  #healthtech     15\n",
      "26  #doctorofveterinarymedicine     14\n",
      "27                     #science     14\n",
      "28                    #medicare     14\n",
      "29                     #covid19     14\n",
      "30                #telemedicine     13\n",
      "31                 #healthcare.     13\n",
      "32                        #tech     13\n",
      "33                      #foamed     13\n",
      "34                 #patientcare     13\n",
      "35                   #education     13\n",
      "36                      #doctor     12\n",
      "37                #mentalhealth     12\n",
      "38                   #hospitals     12\n",
      "39                  #innovation     11\n",
      "40                  #telehealth     11\n",
      "41                 #healthcare?     11\n",
      "42                #healthcareit     11\n",
      "43                         #usa     11\n",
      "44                      #nurses     11\n",
      "45     drugs\\n\\n#tipsfornewdocs     11\n",
      "46       #digitaltransformation     11\n"
     ]
    }
   ],
   "source": [
    "#Look at count > 10\n",
    "data2 = data[data.Count > 10]\n",
    "print(data2)"
   ]
  },
  {
   "cell_type": "code",
   "execution_count": 19,
   "id": "cd287eb2",
   "metadata": {},
   "outputs": [
    {
     "data": {
      "image/png": "[encoded data removed]",
      "text/plain": [
       "<Figure size 1600x1440 with 1 Axes>"
      ]
     },
     "metadata": {},
     "output_type": "display_data"
    },
    {
     "data": {
      "text/plain": [
       "<Figure size 432x288 with 0 Axes>"
      ]
     },
     "metadata": {},
     "output_type": "display_data"
    }
   ],
   "source": [
    "#Create barplot - Tag Count >10 \n",
    "figure(num=None, figsize=(20,18), dpi=80, facecolor='w', edgecolor='r')\n",
    "sns.barplot(x='Count', y='Word', data=data2)\n",
    "plt.show()\n",
    "\n",
    "plt.savefig('Top 10 Tags.png')"
   ]
  },
  {
   "cell_type": "code",
   "execution_count": 20,
   "id": "5dffa263",
   "metadata": {},
   "outputs": [
    {
     "name": "stdout",
     "output_type": "stream",
     "text": [
      "              Word  Count\n",
      "0      #healthcare    716\n",
      "1          #health     80\n",
      "2        #medicine     41\n",
      "3              #ai     40\n",
      "4             #job     38\n",
      "5         #medical     35\n",
      "6        #strategy     30\n",
      "7  #pharmaceutical     28\n",
      "8   #digitalhealth     25\n",
      "9          #pharma     25\n"
     ]
    }
   ],
   "source": [
    "#Dataframe looking at top 10\n",
    "data3 = data2.head(10)\n",
    "print(data3)"
   ]
  },
  {
   "cell_type": "code",
   "execution_count": 21,
   "id": "eae3e404",
   "metadata": {},
   "outputs": [
    {
     "data": {
      "image/png": "[encoded data removed]",
      "text/plain": [
       "<Figure size 1200x960 with 1 Axes>"
      ]
     },
     "metadata": {},
     "output_type": "display_data"
    }
   ],
   "source": [
    "#Creat barplot - Frequent tags  \n",
    "figure(num=None, figsize=(15,12), dpi=80, facecolor='w', edgecolor='r')\n",
    "sns.barplot(x='Word', y='Count', data=data3)\n",
    "\n",
    "plt.savefig('Frequent Tags.png')"
   ]
  }
 ],
 "metadata": {
  "kernelspec": {
   "display_name": "Python 3 (ipykernel)",
   "language": "python",
   "name": "python3"
  },
  "language_info": {
   "codemirror_mode": {
    "name": "ipython",
    "version": 3
   },
   "file_extension": ".py",
   "mimetype": "text/x-python",
   "name": "python",
   "nbconvert_exporter": "python",
   "pygments_lexer": "ipython3",
   "version": "3.9.12"
  }
 },
 "nbformat": 4,
 "nbformat_minor": 5
}
